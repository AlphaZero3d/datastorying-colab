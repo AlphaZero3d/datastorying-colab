{
  "nbformat": 4,
  "nbformat_minor": 0,
  "metadata": {
    "colab": {
      "provenance": [],
      "toc_visible": true,
      "authorship_tag": "ABX9TyMUbY+LI/MMvVRiMfsdr2yJ",
      "include_colab_link": true
    },
    "kernelspec": {
      "name": "python3",
      "display_name": "Python 3"
    },
    "language_info": {
      "name": "python"
    }
  },
  "cells": [
    {
      "cell_type": "markdown",
      "metadata": {
        "id": "view-in-github",
        "colab_type": "text"
      },
      "source": [
        "<a href=\"https://colab.research.google.com/github/AlphaZero3d/datastorying-colab/blob/main/Data_StoryTelling.ipynb\" target=\"_parent\"><img src=\"https://colab.research.google.com/assets/colab-badge.svg\" alt=\"Open In Colab\"/></a>"
      ]
    },
    {
      "cell_type": "markdown",
      "source": [
        "#Story Telling"
      ],
      "metadata": {
        "id": "33yJXL3NATX8"
      }
    },
    {
      "cell_type": "markdown",
      "source": [
        "##This is a colab strucute template:\n"
      ],
      "metadata": {
        "id": "FvNcd3LLBnx-"
      }
    },
    {
      "cell_type": "markdown",
      "source": [
        "\n",
        "![Format](https://github.com/AlphaZero3d/datastorying-colab/assets/111949729/f9eb007d-3907-40b8-80fd-d87cae49b5fc)\n",
        "\n"
      ],
      "metadata": {
        "id": "AwNS_tywB9l5"
      }
    },
    {
      "cell_type": "code",
      "execution_count": null,
      "metadata": {
        "id": "MO1RMb84_MiS"
      },
      "outputs": [],
      "source": []
    },
    {
      "cell_type": "markdown",
      "source": [
        "## Ingest"
      ],
      "metadata": {
        "id": "sgpjTF7pAX1O"
      }
    },
    {
      "cell_type": "code",
      "source": [],
      "metadata": {
        "id": "IsmLozUbAbln"
      },
      "execution_count": null,
      "outputs": []
    },
    {
      "cell_type": "markdown",
      "source": [
        "##EDA"
      ],
      "metadata": {
        "id": "ImRUG0qoAb4y"
      }
    },
    {
      "cell_type": "code",
      "source": [],
      "metadata": {
        "id": "gFVTqu79AjT7"
      },
      "execution_count": null,
      "outputs": []
    },
    {
      "cell_type": "markdown",
      "source": [
        "## Modeling"
      ],
      "metadata": {
        "id": "KKKNwzmwAjkg"
      }
    },
    {
      "cell_type": "code",
      "source": [],
      "metadata": {
        "id": "HhpP0V1gAmmK"
      },
      "execution_count": null,
      "outputs": []
    },
    {
      "cell_type": "markdown",
      "source": [
        "##Conclusion"
      ],
      "metadata": {
        "id": "e5BHvhomApFI"
      }
    },
    {
      "cell_type": "code",
      "source": [],
      "metadata": {
        "id": "VxujzndjAtkq"
      },
      "execution_count": null,
      "outputs": []
    }
  ]
}